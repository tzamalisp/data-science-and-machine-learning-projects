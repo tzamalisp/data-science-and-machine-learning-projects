{
 "cells": [
  {
   "cell_type": "markdown",
   "metadata": {},
   "source": [
    "### Run Jupyter Notebook in Terminal:\n",
    "- jupyter notebook\n",
    "\n",
    "- jupyter notebook --NotebookApp.iopub_data_rate_limit=10000000 *(for increasing the iopub_data_rate_limit)*"
   ]
  },
  {
   "cell_type": "markdown",
   "metadata": {},
   "source": [
    "### Basic Commands/Shortcuts:\n",
    "- run: Shift + Enter\n",
    "\n",
    "- run: Alt + Enter → it will run the command but it will also insert a new cell below\n",
    "\n",
    "- Cell numbers show the number of actions (in which order the scripts are executed by you)\n",
    "\n",
    "- save: Ctrl + S\n",
    "\n",
    "- if you have an infinite loop that doesn't terminates (like a while), you can stop the process by pressing: Kernel → Restart\n",
    "\n",
    "- Kernel is an instance of Python running\n",
    "\n",
    "- You can also interrupt a cell execution by pressing: Kernel → Interrupt\n",
    "\n",
    "- pressing Help, you can be provided by a lot of help in many Python libraries, as well as Jupyter Notebook help\n",
    "\n",
    "- Help → Keyboard Shortcuts to see shortcuts\n",
    "\n",
    "- Markdown text (it works like Notes in Jupyter Notebook): Select \"Markdown\" from dropdown selection menu next to the Restart button\n",
    "\n",
    "- Markdown formatting:\n",
    "    - (#) → Heading level 1\n",
    "    - (*) → bullet\n",
    "\n",
    "- Shift + Tab → inside a function: You can see the arguments and documentation\n"
   ]
  },
  {
   "cell_type": "markdown",
   "metadata": {},
   "source": [
    "### Run plots in Jupyter Notebook:\n",
    "\n",
    "- Matplotlib:\n",
    "        import matplotlib.pyplot as plt\n",
    "        %matplotlib inline\n",
    "- Seaborn\n",
    "        import seaborn as sns\n",
    "        %matplotlib inline\n",
    "        \n",
    "**%matplotlib inline** → see the plots inside the Jupyter Notebook\n",
    "\n",
    "Seaborn comes with some very nice built-in datasets too."
   ]
  },
  {
   "cell_type": "code",
   "execution_count": null,
   "metadata": {
    "collapsed": true
   },
   "outputs": [],
   "source": []
  }
 ],
 "metadata": {
  "kernelspec": {
   "display_name": "Python 3",
   "language": "python",
   "name": "python3"
  },
  "language_info": {
   "codemirror_mode": {
    "name": "ipython",
    "version": 3
   },
   "file_extension": ".py",
   "mimetype": "text/x-python",
   "name": "python",
   "nbconvert_exporter": "python",
   "pygments_lexer": "ipython3",
   "version": "3.6.3"
  }
 },
 "nbformat": 4,
 "nbformat_minor": 2
}
